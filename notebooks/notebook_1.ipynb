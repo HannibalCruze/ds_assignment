{
  "cells": [
    {
      "cell_type": "code",
      "source": [
        "import pandas as pd\n",
        "import matplotlib.pyplot as plt\n",
        "import seaborn as sns\n",
        "import os"
      ],
      "metadata": {
        "id": "7duszrQb0kxk"
      },
      "execution_count": 8,
      "outputs": []
    },
    {
      "cell_type": "code",
      "source": [
        "os.makedirs('outputs', exist_ok=True)\n",
        "os.makedirs('csv_files', exist_ok=True)"
      ],
      "metadata": {
        "id": "7513puDk0sz6"
      },
      "execution_count": 9,
      "outputs": []
    },
    {
      "cell_type": "code",
      "source": [
        "sentiment_df = pd.read_csv('fear_greed_index.csv')\n",
        "trader_df = pd.read_csv('historical_data.csv', on_bad_lines='skip')"
      ],
      "metadata": {
        "id": "40ixHPMr01RA"
      },
      "execution_count": 10,
      "outputs": []
    },
    {
      "cell_type": "code",
      "source": [
        "sentiment_df['date'] = pd.to_datetime(sentiment_df['date'])\n",
        "sentiment_df = sentiment_df[['date', 'classification']]\n"
      ],
      "metadata": {
        "id": "JnCvtWMK1LkU"
      },
      "execution_count": 11,
      "outputs": []
    },
    {
      "cell_type": "code",
      "source": [
        "trader_df['Timestamp IST'] = pd.to_datetime(trader_df['Timestamp IST'], format='%d-%m-%Y %H:%M', errors='coerce')\n",
        "trader_df.dropna(subset=['Timestamp IST'], inplace=True)\n",
        "trader_df['date'] = trader_df['Timestamp IST'].dt.date\n",
        "trader_df['date'] = pd.to_datetime(trader_df['date'])\n",
        "trader_df['Size USD'] = pd.to_numeric(trader_df['Size USD'], errors='coerce')\n",
        "trader_df['Closed PnL'] = pd.to_numeric(trader_df['Closed PnL'], errors='coerce')\n",
        "trader_df.dropna(subset=['Size USD', 'Closed PnL'], inplace=True)"
      ],
      "metadata": {
        "id": "fkVxjIue1hxt"
      },
      "execution_count": 12,
      "outputs": []
    },
    {
      "cell_type": "code",
      "source": [
        "merged_df = trader_df.merge(sentiment_df, on='date', how='left')\n",
        "merged_df.dropna(subset=['classification'], inplace=True)\n",
        "merged_df.to_csv('csv_files/merged_trader_sentiment_data.csv', index=False)"
      ],
      "metadata": {
        "id": "FVW-17WM1pkv"
      },
      "execution_count": 13,
      "outputs": []
    },
    {
      "cell_type": "code",
      "source": [
        "\n",
        "sentiment_order = ['Extreme Fear', 'Fear', 'Neutral', 'Greed', 'Extreme Greed']\n",
        "sns.set(style=\"whitegrid\")\n",
        "plt.figure(figsize=(10, 6))\n",
        "\n"
      ],
      "metadata": {
        "colab": {
          "base_uri": "https://localhost:8080/",
          "height": 52
        },
        "id": "vziCzsrv1yXm",
        "outputId": "4e188356-00f9-411e-bd8c-12192c505422"
      },
      "execution_count": 15,
      "outputs": [
        {
          "output_type": "execute_result",
          "data": {
            "text/plain": [
              "<Figure size 1000x600 with 0 Axes>"
            ]
          },
          "metadata": {},
          "execution_count": 15
        },
        {
          "output_type": "display_data",
          "data": {
            "text/plain": [
              "<Figure size 1000x600 with 0 Axes>"
            ]
          },
          "metadata": {}
        }
      ]
    },
    {
      "cell_type": "code",
      "source": [
        "pnl_vs_sentiment = merged_df.groupby('classification')['Closed PnL'].mean().reindex(sentiment_order)\n",
        "ax1 = sns.barplot(x=pnl_vs_sentiment.index, y=pnl_vs_sentiment.values, palette=\"coolwarm\", order=sentiment_order)\n",
        "ax1.set_title('Average Trader Profit & Loss (PnL) vs. Market Sentiment', fontsize=16)\n",
        "ax1.set_xlabel('Market Sentiment', fontsize=12)\n",
        "ax1.set_ylabel('Average Closed PnL (USD)', fontsize=12)\n",
        "plt.tight_layout()\n",
        "\n",
        "plt.savefig('outputs/profit_vs_sentiment.png')\n",
        "print(\"Saved 'profit_vs_sentiment.png' to 'outputs/'\")\n",
        "plt.clf()\n"
      ],
      "metadata": {
        "colab": {
          "base_uri": "https://localhost:8080/",
          "height": 158
        },
        "id": "auTYUFn02AA0",
        "outputId": "770574fb-350f-4151-968c-d5b3a75111a3"
      },
      "execution_count": 17,
      "outputs": [
        {
          "output_type": "stream",
          "name": "stdout",
          "text": [
            "Saved 'profit_vs_sentiment.png' to 'outputs/'\n"
          ]
        },
        {
          "output_type": "stream",
          "name": "stderr",
          "text": [
            "/tmp/ipython-input-2226252008.py:2: FutureWarning: \n",
            "\n",
            "Passing `palette` without assigning `hue` is deprecated and will be removed in v0.14.0. Assign the `x` variable to `hue` and set `legend=False` for the same effect.\n",
            "\n",
            "  ax1 = sns.barplot(x=pnl_vs_sentiment.index, y=pnl_vs_sentiment.values, palette=\"coolwarm\", order=sentiment_order)\n"
          ]
        },
        {
          "output_type": "display_data",
          "data": {
            "text/plain": [
              "<Figure size 640x480 with 0 Axes>"
            ]
          },
          "metadata": {}
        }
      ]
    },
    {
      "cell_type": "code",
      "source": [
        "volume_vs_sentiment = merged_df.groupby('classification')['Size USD'].sum().reindex(sentiment_order)\n",
        "\n",
        "plt.figure(figsize=(10, 6))\n",
        "ax2 = sns.barplot(x=volume_vs_sentiment.index, y=volume_vs_sentiment.values, palette=\"viridis\", order=sentiment_order)\n",
        "ax2.set_title('Total Trading Volume (USD) vs. Market Sentiment', fontsize=16)\n",
        "ax2.set_xlabel('Market Sentiment', fontsize=12)\n",
        "ax2.set_ylabel('Total Volume (USD)', fontsize=12)\n",
        "ax2.yaxis.set_major_formatter(plt.FuncFormatter(lambda x, p: f'${x/1e6:.0f}M'))\n",
        "plt.tight_layout()\n",
        "plt.savefig('outputs/volume_vs_sentiment.png')\n",
        "print(\"Saved 'volume_vs_sentiment.png' to 'outputs/'\")\n",
        "plt.clf()\n",
        "\n"
      ],
      "metadata": {
        "colab": {
          "base_uri": "https://localhost:8080/",
          "height": 158
        },
        "id": "Ng1VixVQ2MBI",
        "outputId": "45575c08-6934-426b-e2e1-182c5e7cdba0"
      },
      "execution_count": 18,
      "outputs": [
        {
          "output_type": "stream",
          "name": "stdout",
          "text": [
            "Saved 'volume_vs_sentiment.png' to 'outputs/'\n"
          ]
        },
        {
          "output_type": "stream",
          "name": "stderr",
          "text": [
            "/tmp/ipython-input-1504352549.py:4: FutureWarning: \n",
            "\n",
            "Passing `palette` without assigning `hue` is deprecated and will be removed in v0.14.0. Assign the `x` variable to `hue` and set `legend=False` for the same effect.\n",
            "\n",
            "  ax2 = sns.barplot(x=volume_vs_sentiment.index, y=volume_vs_sentiment.values, palette=\"viridis\", order=sentiment_order)\n"
          ]
        },
        {
          "output_type": "display_data",
          "data": {
            "text/plain": [
              "<Figure size 1000x600 with 0 Axes>"
            ]
          },
          "metadata": {}
        }
      ]
    },
    {
      "cell_type": "code",
      "source": [
        "action_vs_sentiment = merged_df.groupby(['classification', 'Side'])['Size USD'].sum().reset_index()\n",
        "action_vs_sentiment = action_vs_sentiment[action_vs_sentiment['Side'].isin(['BUY', 'SELL'])]\n",
        "\n",
        "plt.figure(figsize=(12, 7))\n",
        "ax3 = sns.barplot(data=action_vs_sentiment,x='classification',y='Size USD',hue='Side',order=sentiment_order,palette={'BUY': 'green', 'SELL': 'red'})\n"
      ],
      "metadata": {
        "colab": {
          "base_uri": "https://localhost:8080/",
          "height": 402
        },
        "id": "NkS68JH62PYI",
        "outputId": "ca845a84-9a65-47ca-80e3-b6a159fc3aeb"
      },
      "execution_count": 19,
      "outputs": [
        {
          "output_type": "display_data",
          "data": {
            "text/plain": [
              "<Figure size 1200x700 with 1 Axes>"
            ],
            "image/png": "[encoded data removed]"
          },
          "metadata": {}
        }
      ]
    },
    {
      "cell_type": "code",
      "source": [
        "ax3.set_title('Trading Actions (Buy vs. Sell Volume) vs. Market Sentiment', fontsize=16)\n",
        "ax3.set_xlabel('Market Sentiment', fontsize=12)\n",
        "ax3.set_ylabel('Total Volume (USD)', fontsize=12)\n",
        "ax3.yaxis.set_major_formatter(plt.FuncFormatter(lambda x, p: f'${x/1e6:.0f}M'))"
      ],
      "metadata": {
        "id": "kH7t4LgA2P5M"
      },
      "execution_count": 20,
      "outputs": []
    },
    {
      "cell_type": "code",
      "source": [
        "plt.legend(title='Trade Side')\n",
        "plt.tight_layout()\n",
        "\n",
        "plt.savefig('outputs/action_vs_sentiment.png')\n",
        "print(\"Saved 'action_vs_sentiment.png' to 'outputs/'\")\n",
        "plt.clf()"
      ],
      "metadata": {
        "colab": {
          "base_uri": "https://localhost:8080/",
          "height": 106
        },
        "id": "x27A7e7O2QGq",
        "outputId": "94bde6e6-bea6-4a4f-aac2-33e5e40710d5"
      },
      "execution_count": 21,
      "outputs": [
        {
          "output_type": "stream",
          "name": "stdout",
          "text": [
            "Saved 'action_vs_sentiment.png' to 'outputs/'\n"
          ]
        },
        {
          "output_type": "stream",
          "name": "stderr",
          "text": [
            "/tmp/ipython-input-3817438690.py:1: UserWarning: No artists with labels found to put in legend.  Note that artists whose label start with an underscore are ignored when legend() is called with no argument.\n",
            "  plt.legend(title='Trade Side')\n"
          ]
        },
        {
          "output_type": "display_data",
          "data": {
            "text/plain": [
              "<Figure size 640x480 with 0 Axes>"
            ]
          },
          "metadata": {}
        }
      ]
    },
    {
      "cell_type": "code",
      "source": [],
      "metadata": {
        "id": "GD3p5geA2QXa"
      },
      "execution_count": null,
      "outputs": []
    }
  ],
  "metadata": {
    "colab": {
      "provenance": []
    },
    "kernelspec": {
      "display_name": "Python 3",
      "name": "python3"
    },
    "language_info": {
      "name": "python"
    }
  },
  "nbformat": 4,
  "nbformat_minor": 0
}